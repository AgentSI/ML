{
 "cells": [
  {
   "cell_type": "code",
   "execution_count": 1,
   "id": "a1520dc4",
   "metadata": {},
   "outputs": [],
   "source": [
    "# Importez bibliotecile\n",
    "import numpy as np\n",
    "import pandas as pd\n",
    "import matplotlib.pyplot as plt\n",
    "import seaborn as sns"
   ]
  },
  {
   "cell_type": "code",
   "execution_count": 2,
   "id": "204a17e5",
   "metadata": {},
   "outputs": [],
   "source": [
    "# Importez modelele de ML\n",
    "from sklearn.neighbors import KNeighborsRegressor\n",
    "from sklearn.tree import DecisionTreeRegressor\n",
    "from sklearn.ensemble import RandomForestRegressor\n",
    "from sklearn.linear_model import SGDClassifier\n",
    "from sklearn.naive_bayes import GaussianNB"
   ]
  },
  {
   "cell_type": "code",
   "execution_count": 3,
   "id": "dc7996f2",
   "metadata": {},
   "outputs": [],
   "source": [
    "# Definesc lista cu medelele de ML\n",
    "models = [\n",
    "    KNeighborsRegressor(),\n",
    "    DecisionTreeRegressor(),\n",
    "    RandomForestRegressor(),\n",
    "    SGDClassifier(),\n",
    "    GaussianNB()\n",
    "]"
   ]
  },
  {
   "cell_type": "code",
   "execution_count": 4,
   "id": "733024cd",
   "metadata": {},
   "outputs": [],
   "source": [
    "# Importez functii care ajuta sa impart setul de date\n",
    "from sklearn.model_selection import train_test_split\n",
    "# Importez metricile ce arata performanta modelelor de ML\n",
    "from sklearn.metrics import mean_absolute_error, mean_squared_error\n",
    "# Importez StandardScaler model care permite sa schimb scara datelor \n",
    "from sklearn.preprocessing import StandardScaler"
   ]
  },
  {
   "cell_type": "code",
   "execution_count": 5,
   "id": "c9b2114d",
   "metadata": {},
   "outputs": [
    {
     "data": {
      "text/html": [
       "<div>\n",
       "<style scoped>\n",
       "    .dataframe tbody tr th:only-of-type {\n",
       "        vertical-align: middle;\n",
       "    }\n",
       "\n",
       "    .dataframe tbody tr th {\n",
       "        vertical-align: top;\n",
       "    }\n",
       "\n",
       "    .dataframe thead th {\n",
       "        text-align: right;\n",
       "    }\n",
       "</style>\n",
       "<table border=\"1\" class=\"dataframe\">\n",
       "  <thead>\n",
       "    <tr style=\"text-align: right;\">\n",
       "      <th></th>\n",
       "      <th>Age</th>\n",
       "      <th>Sex</th>\n",
       "      <th>ChestPainType</th>\n",
       "      <th>RestingBP</th>\n",
       "      <th>Cholesterol</th>\n",
       "      <th>FastingBS</th>\n",
       "      <th>RestingECG</th>\n",
       "      <th>MaxHR</th>\n",
       "      <th>ExerciseAngina</th>\n",
       "      <th>Oldpeak</th>\n",
       "      <th>ST_Slope</th>\n",
       "      <th>HeartDisease</th>\n",
       "    </tr>\n",
       "  </thead>\n",
       "  <tbody>\n",
       "    <tr>\n",
       "      <th>0</th>\n",
       "      <td>40</td>\n",
       "      <td>M</td>\n",
       "      <td>ATA</td>\n",
       "      <td>140</td>\n",
       "      <td>289</td>\n",
       "      <td>0</td>\n",
       "      <td>Normal</td>\n",
       "      <td>172</td>\n",
       "      <td>N</td>\n",
       "      <td>0.0</td>\n",
       "      <td>Up</td>\n",
       "      <td>0</td>\n",
       "    </tr>\n",
       "    <tr>\n",
       "      <th>1</th>\n",
       "      <td>49</td>\n",
       "      <td>F</td>\n",
       "      <td>NAP</td>\n",
       "      <td>160</td>\n",
       "      <td>180</td>\n",
       "      <td>0</td>\n",
       "      <td>Normal</td>\n",
       "      <td>156</td>\n",
       "      <td>N</td>\n",
       "      <td>1.0</td>\n",
       "      <td>Flat</td>\n",
       "      <td>1</td>\n",
       "    </tr>\n",
       "    <tr>\n",
       "      <th>2</th>\n",
       "      <td>37</td>\n",
       "      <td>M</td>\n",
       "      <td>ATA</td>\n",
       "      <td>130</td>\n",
       "      <td>283</td>\n",
       "      <td>0</td>\n",
       "      <td>ST</td>\n",
       "      <td>98</td>\n",
       "      <td>N</td>\n",
       "      <td>0.0</td>\n",
       "      <td>Up</td>\n",
       "      <td>0</td>\n",
       "    </tr>\n",
       "    <tr>\n",
       "      <th>3</th>\n",
       "      <td>48</td>\n",
       "      <td>F</td>\n",
       "      <td>ASY</td>\n",
       "      <td>138</td>\n",
       "      <td>214</td>\n",
       "      <td>0</td>\n",
       "      <td>Normal</td>\n",
       "      <td>108</td>\n",
       "      <td>Y</td>\n",
       "      <td>1.5</td>\n",
       "      <td>Flat</td>\n",
       "      <td>1</td>\n",
       "    </tr>\n",
       "    <tr>\n",
       "      <th>4</th>\n",
       "      <td>54</td>\n",
       "      <td>M</td>\n",
       "      <td>NAP</td>\n",
       "      <td>150</td>\n",
       "      <td>195</td>\n",
       "      <td>0</td>\n",
       "      <td>Normal</td>\n",
       "      <td>122</td>\n",
       "      <td>N</td>\n",
       "      <td>0.0</td>\n",
       "      <td>Up</td>\n",
       "      <td>0</td>\n",
       "    </tr>\n",
       "    <tr>\n",
       "      <th>...</th>\n",
       "      <td>...</td>\n",
       "      <td>...</td>\n",
       "      <td>...</td>\n",
       "      <td>...</td>\n",
       "      <td>...</td>\n",
       "      <td>...</td>\n",
       "      <td>...</td>\n",
       "      <td>...</td>\n",
       "      <td>...</td>\n",
       "      <td>...</td>\n",
       "      <td>...</td>\n",
       "      <td>...</td>\n",
       "    </tr>\n",
       "    <tr>\n",
       "      <th>913</th>\n",
       "      <td>45</td>\n",
       "      <td>M</td>\n",
       "      <td>TA</td>\n",
       "      <td>110</td>\n",
       "      <td>264</td>\n",
       "      <td>0</td>\n",
       "      <td>Normal</td>\n",
       "      <td>132</td>\n",
       "      <td>N</td>\n",
       "      <td>1.2</td>\n",
       "      <td>Flat</td>\n",
       "      <td>1</td>\n",
       "    </tr>\n",
       "    <tr>\n",
       "      <th>914</th>\n",
       "      <td>68</td>\n",
       "      <td>M</td>\n",
       "      <td>ASY</td>\n",
       "      <td>144</td>\n",
       "      <td>193</td>\n",
       "      <td>1</td>\n",
       "      <td>Normal</td>\n",
       "      <td>141</td>\n",
       "      <td>N</td>\n",
       "      <td>3.4</td>\n",
       "      <td>Flat</td>\n",
       "      <td>1</td>\n",
       "    </tr>\n",
       "    <tr>\n",
       "      <th>915</th>\n",
       "      <td>57</td>\n",
       "      <td>M</td>\n",
       "      <td>ASY</td>\n",
       "      <td>130</td>\n",
       "      <td>131</td>\n",
       "      <td>0</td>\n",
       "      <td>Normal</td>\n",
       "      <td>115</td>\n",
       "      <td>Y</td>\n",
       "      <td>1.2</td>\n",
       "      <td>Flat</td>\n",
       "      <td>1</td>\n",
       "    </tr>\n",
       "    <tr>\n",
       "      <th>916</th>\n",
       "      <td>57</td>\n",
       "      <td>F</td>\n",
       "      <td>ATA</td>\n",
       "      <td>130</td>\n",
       "      <td>236</td>\n",
       "      <td>0</td>\n",
       "      <td>LVH</td>\n",
       "      <td>174</td>\n",
       "      <td>N</td>\n",
       "      <td>0.0</td>\n",
       "      <td>Flat</td>\n",
       "      <td>1</td>\n",
       "    </tr>\n",
       "    <tr>\n",
       "      <th>917</th>\n",
       "      <td>38</td>\n",
       "      <td>M</td>\n",
       "      <td>NAP</td>\n",
       "      <td>138</td>\n",
       "      <td>175</td>\n",
       "      <td>0</td>\n",
       "      <td>Normal</td>\n",
       "      <td>173</td>\n",
       "      <td>N</td>\n",
       "      <td>0.0</td>\n",
       "      <td>Up</td>\n",
       "      <td>0</td>\n",
       "    </tr>\n",
       "  </tbody>\n",
       "</table>\n",
       "<p>918 rows × 12 columns</p>\n",
       "</div>"
      ],
      "text/plain": [
       "     Age Sex ChestPainType  RestingBP  Cholesterol  FastingBS RestingECG  \\\n",
       "0     40   M           ATA        140          289          0     Normal   \n",
       "1     49   F           NAP        160          180          0     Normal   \n",
       "2     37   M           ATA        130          283          0         ST   \n",
       "3     48   F           ASY        138          214          0     Normal   \n",
       "4     54   M           NAP        150          195          0     Normal   \n",
       "..   ...  ..           ...        ...          ...        ...        ...   \n",
       "913   45   M            TA        110          264          0     Normal   \n",
       "914   68   M           ASY        144          193          1     Normal   \n",
       "915   57   M           ASY        130          131          0     Normal   \n",
       "916   57   F           ATA        130          236          0        LVH   \n",
       "917   38   M           NAP        138          175          0     Normal   \n",
       "\n",
       "     MaxHR ExerciseAngina  Oldpeak ST_Slope  HeartDisease  \n",
       "0      172              N      0.0       Up             0  \n",
       "1      156              N      1.0     Flat             1  \n",
       "2       98              N      0.0       Up             0  \n",
       "3      108              Y      1.5     Flat             1  \n",
       "4      122              N      0.0       Up             0  \n",
       "..     ...            ...      ...      ...           ...  \n",
       "913    132              N      1.2     Flat             1  \n",
       "914    141              N      3.4     Flat             1  \n",
       "915    115              Y      1.2     Flat             1  \n",
       "916    174              N      0.0     Flat             1  \n",
       "917    173              N      0.0       Up             0  \n",
       "\n",
       "[918 rows x 12 columns]"
      ]
     },
     "execution_count": 5,
     "metadata": {},
     "output_type": "execute_result"
    }
   ],
   "source": [
    "# Importez setul de date\n",
    "df = pd.read_csv('heart.csv')\n",
    "df"
   ]
  },
  {
   "cell_type": "code",
   "execution_count": 6,
   "id": "d7d21058",
   "metadata": {},
   "outputs": [],
   "source": [
    "# Sterg coloanele ce contin date de tip string\n",
    "non_informative_columns = ['Sex', 'ChestPainType', 'RestingECG', 'ExerciseAngina', 'ST_Slope']\n",
    "df = df.drop(non_informative_columns, axis=1)"
   ]
  },
  {
   "cell_type": "code",
   "execution_count": 7,
   "id": "e36d80df",
   "metadata": {},
   "outputs": [],
   "source": [
    "# Creez functia care va lua setul de date, va imparti acesta in train si test, va antrena modelele pe datele train \n",
    "# si le va testa pe cele test\n",
    "\n",
    "def test_model(df, models, target):\n",
    "    \n",
    "# Extrag fisierele\n",
    "    X = df.drop([target], axis=1).values\n",
    "    y = df[target].values\n",
    "    \n",
    "# Impart setul de date in trainsi test\n",
    "    X_train, X_test, y_train, y_test = train_test_split(X, y, random_state=42)\n",
    "    \n",
    "# Definesc dictionare care vor stoca erorile fiecarui model de ML\n",
    "    mse, mae, mse_normalized, mae_normalized = {}, {}, {}, {}\n",
    "    scaler = StandardScaler()\n",
    "    \n",
    "# Antrenez setul de date pe fiecare model\n",
    "    for i in range(len(models)):\n",
    "        models[i].fit(X_train, y_train)\n",
    "        y_pred = models[i].predict(X_test)\n",
    "        \n",
    "# Salvez predictiile in dictionare\n",
    "        mae[str(models[i].__class__())] = mean_absolute_error(y_pred, y_test)\n",
    "        mse[str(models[i].__class__())] = mean_squared_error(y_pred, y_test)\n",
    "\n",
    "        X_train_norm = scaler.fit_transform(X_train)\n",
    "        X_test_norm = scaler.transform(X_test)\n",
    "        \n",
    "        models[i].fit(X_train_norm, y_train)\n",
    "        y_pred = models[i].predict(X_test_norm)\n",
    "        \n",
    "# Normalizez        \n",
    "        mae_normalized[str(models[i].__class__())] = mean_squared_error(y_pred, y_test)\n",
    "        mse_normalized[str(models[i].__class__())] = mean_absolute_error(y_pred, y_test)\n",
    "    \n",
    "# Returnez metricele pentru fiecare model\n",
    "    return mae, mse, mae_normalized, mse_normalized"
   ]
  },
  {
   "cell_type": "code",
   "execution_count": 8,
   "id": "0159f422",
   "metadata": {},
   "outputs": [],
   "source": [
    "# Obtin precizia fiecarui model de ML\n",
    "mae, mse, mae_normalized, mse_normalized = test_model(df, models, 'HeartDisease')"
   ]
  },
  {
   "cell_type": "code",
   "execution_count": 9,
   "id": "53d78b06",
   "metadata": {},
   "outputs": [
    {
     "data": {
      "text/plain": [
       "{'KNeighborsRegressor()': 0.36782608695652186,\n",
       " 'DecisionTreeRegressor()': 0.3130434782608696,\n",
       " 'RandomForestRegressor()': 0.3191304347826086,\n",
       " 'SGDClassifier()': 0.29130434782608694,\n",
       " 'GaussianNB()': 0.21304347826086956}"
      ]
     },
     "execution_count": 9,
     "metadata": {},
     "output_type": "execute_result"
    }
   ],
   "source": [
    "# erorile pentru fiecare model de ML\n",
    "mae"
   ]
  },
  {
   "cell_type": "code",
   "execution_count": 10,
   "id": "9177f5d9",
   "metadata": {},
   "outputs": [
    {
     "data": {
      "text/plain": [
       "{'KNeighborsRegressor()': 0.17582608695652177,\n",
       " 'DecisionTreeRegressor()': 0.30434782608695654,\n",
       " 'RandomForestRegressor()': 0.1727817391304348,\n",
       " 'SGDClassifier()': 0.29130434782608694,\n",
       " 'GaussianNB()': 0.21304347826086956}"
      ]
     },
     "execution_count": 10,
     "metadata": {},
     "output_type": "execute_result"
    }
   ],
   "source": [
    "mae_normalized"
   ]
  },
  {
   "cell_type": "code",
   "execution_count": 11,
   "id": "0ff096b9",
   "metadata": {},
   "outputs": [
    {
     "data": {
      "text/plain": [
       "{'KNeighborsRegressor()': 0.2147826086956522,\n",
       " 'DecisionTreeRegressor()': 0.3130434782608696,\n",
       " 'RandomForestRegressor()': 0.17571565217391305,\n",
       " 'SGDClassifier()': 0.29130434782608694,\n",
       " 'GaussianNB()': 0.21304347826086956}"
      ]
     },
     "execution_count": 11,
     "metadata": {},
     "output_type": "execute_result"
    }
   ],
   "source": [
    "mse"
   ]
  },
  {
   "cell_type": "code",
   "execution_count": 12,
   "id": "54ba6022",
   "metadata": {},
   "outputs": [
    {
     "data": {
      "text/plain": [
       "{'KNeighborsRegressor()': 0.30521739130434783,\n",
       " 'DecisionTreeRegressor()': 0.30434782608695654,\n",
       " 'RandomForestRegressor()': 0.3191304347826087,\n",
       " 'SGDClassifier()': 0.29130434782608694,\n",
       " 'GaussianNB()': 0.21304347826086956}"
      ]
     },
     "execution_count": 12,
     "metadata": {},
     "output_type": "execute_result"
    }
   ],
   "source": [
    "mse_normalized"
   ]
  },
  {
   "cell_type": "code",
   "execution_count": 13,
   "id": "babe68a5",
   "metadata": {},
   "outputs": [
    {
     "data": {
      "text/plain": [
       "<matplotlib.legend.Legend at 0x24f2d7844c0>"
      ]
     },
     "execution_count": 13,
     "metadata": {},
     "output_type": "execute_result"
    },
    {
     "data": {
      "image/png": "[encoded data removed]",
      "text/plain": [
       "<Figure size 1152x648 with 1 Axes>"
      ]
     },
     "metadata": {
      "needs_background": "light"
     },
     "output_type": "display_data"
    }
   ],
   "source": [
    "# Pentru a vedea mai bine erorile folosesc matplotlib pentru a crea un grafic \n",
    "plt.figure(figsize=(16, 9))\n",
    "plt.bar(mse.keys(), mse.values(), label='non-norm')\n",
    "plt.bar(mse_normalized.keys(), mse_normalized.values(), width=0.2, label='norm')\n",
    "plt.legend()"
   ]
  },
  {
   "cell_type": "code",
   "execution_count": 14,
   "id": "d31f683e",
   "metadata": {},
   "outputs": [],
   "source": [
    "# In acesta figura se observa foarte bine ca cel mai bun model este GaussianNB dupa mse"
   ]
  },
  {
   "cell_type": "code",
   "execution_count": 15,
   "id": "7587e88f",
   "metadata": {},
   "outputs": [
    {
     "data": {
      "text/plain": [
       "<matplotlib.legend.Legend at 0x24f2d7f3190>"
      ]
     },
     "execution_count": 15,
     "metadata": {},
     "output_type": "execute_result"
    },
    {
     "data": {
      "image/png": "[encoded data removed]",
      "text/plain": [
       "<Figure size 1152x648 with 1 Axes>"
      ]
     },
     "metadata": {
      "needs_background": "light"
     },
     "output_type": "display_data"
    }
   ],
   "source": [
    "# Sa vad diferenta erorilor dupa mae\n",
    "plt.figure(figsize=(16, 9))\n",
    "plt.bar(mae.keys(), mae.values(), label='non-norm')\n",
    "plt.bar(mae_normalized.keys(), mae_normalized.values(), width=0.2, label='norm')\n",
    "plt.legend()"
   ]
  },
  {
   "cell_type": "code",
   "execution_count": 16,
   "id": "77fb6e78",
   "metadata": {},
   "outputs": [],
   "source": [
    "# Putem observa cu ochiul liber ca si aici cel mai bun model de ML este GaussianNB"
   ]
  },
  {
   "cell_type": "code",
   "execution_count": 17,
   "id": "37c51f4e",
   "metadata": {},
   "outputs": [],
   "source": [
    "# Importez Pipeline, modelul care permite sa uneasca cateva etape pana la predictie\n",
    "from sklearn.pipeline import Pipeline"
   ]
  },
  {
   "cell_type": "code",
   "execution_count": 18,
   "id": "e1f4d9a4",
   "metadata": {},
   "outputs": [],
   "source": [
    "# Creez Pipeline, cu cel mai bun model de ML, care am observat ca este GaussianNB\n",
    "pipe = Pipeline(\n",
    "    [\n",
    "        ('scaler', StandardScaler()),\n",
    "        ('naive_bayes', GaussianNB())\n",
    "    ]\n",
    ")"
   ]
  },
  {
   "cell_type": "code",
   "execution_count": 19,
   "id": "81ffc4b7",
   "metadata": {},
   "outputs": [],
   "source": [
    "x = df.drop(['HeartDisease'], axis=1).values\n",
    "y = df['HeartDisease'].values"
   ]
  },
  {
   "cell_type": "code",
   "execution_count": 20,
   "id": "3170b376",
   "metadata": {},
   "outputs": [
    {
     "data": {
      "text/plain": [
       "Pipeline(steps=[('scaler', StandardScaler()), ('naive_bayes', GaussianNB())])"
      ]
     },
     "execution_count": 20,
     "metadata": {},
     "output_type": "execute_result"
    }
   ],
   "source": [
    "# Obtin modelul Pipeline\n",
    "pipe.fit(x, y)"
   ]
  },
  {
   "cell_type": "code",
   "execution_count": 21,
   "id": "79712e26",
   "metadata": {},
   "outputs": [],
   "source": [
    "# Importez biblioteca care imi permite sa stochez local modelul creat\n",
    "import pickle"
   ]
  },
  {
   "cell_type": "code",
   "execution_count": 22,
   "id": "19852aaa",
   "metadata": {},
   "outputs": [],
   "source": [
    "# Salvez modelul in calculator\n",
    "pickle.dump(pipe, open('pipe.pkl', 'wb'))"
   ]
  }
 ],
 "metadata": {
  "kernelspec": {
   "display_name": "Python 3 (ipykernel)",
   "language": "python",
   "name": "python3"
  },
  "language_info": {
   "codemirror_mode": {
    "name": "ipython",
    "version": 3
   },
   "file_extension": ".py",
   "mimetype": "text/x-python",
   "name": "python",
   "nbconvert_exporter": "python",
   "pygments_lexer": "ipython3",
   "version": "3.9.10"
  }
 },
 "nbformat": 4,
 "nbformat_minor": 5
}
