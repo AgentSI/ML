{
 "cells": [
  {
   "cell_type": "code",
   "execution_count": 1,
   "id": "6f99bb77",
   "metadata": {},
   "outputs": [],
   "source": [
    "import numpy as np\n",
    "import pandas as pd\n",
    "import matplotlib.pyplot as plt\n",
    "import seaborn as sns"
   ]
  },
  {
   "cell_type": "code",
   "execution_count": 2,
   "id": "a635a7ef",
   "metadata": {},
   "outputs": [
    {
     "data": {
      "text/html": [
       "<div>\n",
       "<style scoped>\n",
       "    .dataframe tbody tr th:only-of-type {\n",
       "        vertical-align: middle;\n",
       "    }\n",
       "\n",
       "    .dataframe tbody tr th {\n",
       "        vertical-align: top;\n",
       "    }\n",
       "\n",
       "    .dataframe thead th {\n",
       "        text-align: right;\n",
       "    }\n",
       "</style>\n",
       "<table border=\"1\" class=\"dataframe\">\n",
       "  <thead>\n",
       "    <tr style=\"text-align: right;\">\n",
       "      <th></th>\n",
       "      <th>type</th>\n",
       "      <th>fixed acidity</th>\n",
       "      <th>volatile acidity</th>\n",
       "      <th>citric acid</th>\n",
       "      <th>residual sugar</th>\n",
       "      <th>chlorides</th>\n",
       "      <th>free sulfur dioxide</th>\n",
       "      <th>total sulfur dioxide</th>\n",
       "      <th>density</th>\n",
       "      <th>pH</th>\n",
       "      <th>sulphates</th>\n",
       "      <th>alcohol</th>\n",
       "      <th>quality</th>\n",
       "    </tr>\n",
       "  </thead>\n",
       "  <tbody>\n",
       "    <tr>\n",
       "      <th>0</th>\n",
       "      <td>white</td>\n",
       "      <td>7.0</td>\n",
       "      <td>0.270</td>\n",
       "      <td>0.36</td>\n",
       "      <td>20.7</td>\n",
       "      <td>0.045</td>\n",
       "      <td>45.0</td>\n",
       "      <td>170.0</td>\n",
       "      <td>1.00100</td>\n",
       "      <td>3.00</td>\n",
       "      <td>0.45</td>\n",
       "      <td>8.8</td>\n",
       "      <td>6</td>\n",
       "    </tr>\n",
       "    <tr>\n",
       "      <th>1</th>\n",
       "      <td>white</td>\n",
       "      <td>6.3</td>\n",
       "      <td>0.300</td>\n",
       "      <td>0.34</td>\n",
       "      <td>1.6</td>\n",
       "      <td>0.049</td>\n",
       "      <td>14.0</td>\n",
       "      <td>132.0</td>\n",
       "      <td>0.99400</td>\n",
       "      <td>3.30</td>\n",
       "      <td>0.49</td>\n",
       "      <td>9.5</td>\n",
       "      <td>6</td>\n",
       "    </tr>\n",
       "    <tr>\n",
       "      <th>2</th>\n",
       "      <td>white</td>\n",
       "      <td>8.1</td>\n",
       "      <td>0.280</td>\n",
       "      <td>0.40</td>\n",
       "      <td>6.9</td>\n",
       "      <td>0.050</td>\n",
       "      <td>30.0</td>\n",
       "      <td>97.0</td>\n",
       "      <td>0.99510</td>\n",
       "      <td>3.26</td>\n",
       "      <td>0.44</td>\n",
       "      <td>10.1</td>\n",
       "      <td>6</td>\n",
       "    </tr>\n",
       "    <tr>\n",
       "      <th>3</th>\n",
       "      <td>white</td>\n",
       "      <td>7.2</td>\n",
       "      <td>0.230</td>\n",
       "      <td>0.32</td>\n",
       "      <td>8.5</td>\n",
       "      <td>0.058</td>\n",
       "      <td>47.0</td>\n",
       "      <td>186.0</td>\n",
       "      <td>0.99560</td>\n",
       "      <td>3.19</td>\n",
       "      <td>0.40</td>\n",
       "      <td>9.9</td>\n",
       "      <td>6</td>\n",
       "    </tr>\n",
       "    <tr>\n",
       "      <th>4</th>\n",
       "      <td>white</td>\n",
       "      <td>7.2</td>\n",
       "      <td>0.230</td>\n",
       "      <td>0.32</td>\n",
       "      <td>8.5</td>\n",
       "      <td>0.058</td>\n",
       "      <td>47.0</td>\n",
       "      <td>186.0</td>\n",
       "      <td>0.99560</td>\n",
       "      <td>3.19</td>\n",
       "      <td>0.40</td>\n",
       "      <td>9.9</td>\n",
       "      <td>6</td>\n",
       "    </tr>\n",
       "    <tr>\n",
       "      <th>...</th>\n",
       "      <td>...</td>\n",
       "      <td>...</td>\n",
       "      <td>...</td>\n",
       "      <td>...</td>\n",
       "      <td>...</td>\n",
       "      <td>...</td>\n",
       "      <td>...</td>\n",
       "      <td>...</td>\n",
       "      <td>...</td>\n",
       "      <td>...</td>\n",
       "      <td>...</td>\n",
       "      <td>...</td>\n",
       "      <td>...</td>\n",
       "    </tr>\n",
       "    <tr>\n",
       "      <th>6492</th>\n",
       "      <td>red</td>\n",
       "      <td>6.2</td>\n",
       "      <td>0.600</td>\n",
       "      <td>0.08</td>\n",
       "      <td>2.0</td>\n",
       "      <td>0.090</td>\n",
       "      <td>32.0</td>\n",
       "      <td>44.0</td>\n",
       "      <td>0.99490</td>\n",
       "      <td>3.45</td>\n",
       "      <td>0.58</td>\n",
       "      <td>10.5</td>\n",
       "      <td>5</td>\n",
       "    </tr>\n",
       "    <tr>\n",
       "      <th>6493</th>\n",
       "      <td>red</td>\n",
       "      <td>5.9</td>\n",
       "      <td>0.550</td>\n",
       "      <td>0.10</td>\n",
       "      <td>2.2</td>\n",
       "      <td>0.062</td>\n",
       "      <td>39.0</td>\n",
       "      <td>51.0</td>\n",
       "      <td>0.99512</td>\n",
       "      <td>3.52</td>\n",
       "      <td>0.76</td>\n",
       "      <td>11.2</td>\n",
       "      <td>6</td>\n",
       "    </tr>\n",
       "    <tr>\n",
       "      <th>6494</th>\n",
       "      <td>red</td>\n",
       "      <td>6.3</td>\n",
       "      <td>0.510</td>\n",
       "      <td>0.13</td>\n",
       "      <td>2.3</td>\n",
       "      <td>0.076</td>\n",
       "      <td>29.0</td>\n",
       "      <td>40.0</td>\n",
       "      <td>0.99574</td>\n",
       "      <td>3.42</td>\n",
       "      <td>0.75</td>\n",
       "      <td>11.0</td>\n",
       "      <td>6</td>\n",
       "    </tr>\n",
       "    <tr>\n",
       "      <th>6495</th>\n",
       "      <td>red</td>\n",
       "      <td>5.9</td>\n",
       "      <td>0.645</td>\n",
       "      <td>0.12</td>\n",
       "      <td>2.0</td>\n",
       "      <td>0.075</td>\n",
       "      <td>32.0</td>\n",
       "      <td>44.0</td>\n",
       "      <td>0.99547</td>\n",
       "      <td>3.57</td>\n",
       "      <td>0.71</td>\n",
       "      <td>10.2</td>\n",
       "      <td>5</td>\n",
       "    </tr>\n",
       "    <tr>\n",
       "      <th>6496</th>\n",
       "      <td>red</td>\n",
       "      <td>6.0</td>\n",
       "      <td>0.310</td>\n",
       "      <td>0.47</td>\n",
       "      <td>3.6</td>\n",
       "      <td>0.067</td>\n",
       "      <td>18.0</td>\n",
       "      <td>42.0</td>\n",
       "      <td>0.99549</td>\n",
       "      <td>3.39</td>\n",
       "      <td>0.66</td>\n",
       "      <td>11.0</td>\n",
       "      <td>6</td>\n",
       "    </tr>\n",
       "  </tbody>\n",
       "</table>\n",
       "<p>6497 rows × 13 columns</p>\n",
       "</div>"
      ],
      "text/plain": [
       "       type  fixed acidity  volatile acidity  citric acid  residual sugar  \\\n",
       "0     white            7.0             0.270         0.36            20.7   \n",
       "1     white            6.3             0.300         0.34             1.6   \n",
       "2     white            8.1             0.280         0.40             6.9   \n",
       "3     white            7.2             0.230         0.32             8.5   \n",
       "4     white            7.2             0.230         0.32             8.5   \n",
       "...     ...            ...               ...          ...             ...   \n",
       "6492    red            6.2             0.600         0.08             2.0   \n",
       "6493    red            5.9             0.550         0.10             2.2   \n",
       "6494    red            6.3             0.510         0.13             2.3   \n",
       "6495    red            5.9             0.645         0.12             2.0   \n",
       "6496    red            6.0             0.310         0.47             3.6   \n",
       "\n",
       "      chlorides  free sulfur dioxide  total sulfur dioxide  density    pH  \\\n",
       "0         0.045                 45.0                 170.0  1.00100  3.00   \n",
       "1         0.049                 14.0                 132.0  0.99400  3.30   \n",
       "2         0.050                 30.0                  97.0  0.99510  3.26   \n",
       "3         0.058                 47.0                 186.0  0.99560  3.19   \n",
       "4         0.058                 47.0                 186.0  0.99560  3.19   \n",
       "...         ...                  ...                   ...      ...   ...   \n",
       "6492      0.090                 32.0                  44.0  0.99490  3.45   \n",
       "6493      0.062                 39.0                  51.0  0.99512  3.52   \n",
       "6494      0.076                 29.0                  40.0  0.99574  3.42   \n",
       "6495      0.075                 32.0                  44.0  0.99547  3.57   \n",
       "6496      0.067                 18.0                  42.0  0.99549  3.39   \n",
       "\n",
       "      sulphates  alcohol  quality  \n",
       "0          0.45      8.8        6  \n",
       "1          0.49      9.5        6  \n",
       "2          0.44     10.1        6  \n",
       "3          0.40      9.9        6  \n",
       "4          0.40      9.9        6  \n",
       "...         ...      ...      ...  \n",
       "6492       0.58     10.5        5  \n",
       "6493       0.76     11.2        6  \n",
       "6494       0.75     11.0        6  \n",
       "6495       0.71     10.2        5  \n",
       "6496       0.66     11.0        6  \n",
       "\n",
       "[6497 rows x 13 columns]"
      ]
     },
     "execution_count": 2,
     "metadata": {},
     "output_type": "execute_result"
    }
   ],
   "source": [
    "# Importez setul de date\n",
    "df = pd.read_csv('wine-quality-white-and-red.csv')\n",
    "df"
   ]
  },
  {
   "cell_type": "code",
   "execution_count": 3,
   "id": "b8bdbacb",
   "metadata": {},
   "outputs": [
    {
     "name": "stdout",
     "output_type": "stream",
     "text": [
      "<class 'pandas.core.frame.DataFrame'>\n",
      "RangeIndex: 6497 entries, 0 to 6496\n",
      "Data columns (total 13 columns):\n",
      " #   Column                Non-Null Count  Dtype  \n",
      "---  ------                --------------  -----  \n",
      " 0   type                  6497 non-null   object \n",
      " 1   fixed acidity         6497 non-null   float64\n",
      " 2   volatile acidity      6497 non-null   float64\n",
      " 3   citric acid           6497 non-null   float64\n",
      " 4   residual sugar        6497 non-null   float64\n",
      " 5   chlorides             6497 non-null   float64\n",
      " 6   free sulfur dioxide   6497 non-null   float64\n",
      " 7   total sulfur dioxide  6497 non-null   float64\n",
      " 8   density               6497 non-null   float64\n",
      " 9   pH                    6497 non-null   float64\n",
      " 10  sulphates             6497 non-null   float64\n",
      " 11  alcohol               6497 non-null   float64\n",
      " 12  quality               6497 non-null   int64  \n",
      "dtypes: float64(11), int64(1), object(1)\n",
      "memory usage: 660.0+ KB\n"
     ]
    }
   ],
   "source": [
    "# Privesc informațiile generale despre setul de date\n",
    "df.info()"
   ]
  },
  {
   "cell_type": "code",
   "execution_count": 4,
   "id": "1753a9b0",
   "metadata": {},
   "outputs": [
    {
     "data": {
      "text/plain": [
       "type                    0\n",
       "fixed acidity           0\n",
       "volatile acidity        0\n",
       "citric acid             0\n",
       "residual sugar          0\n",
       "chlorides               0\n",
       "free sulfur dioxide     0\n",
       "total sulfur dioxide    0\n",
       "density                 0\n",
       "pH                      0\n",
       "sulphates               0\n",
       "alcohol                 0\n",
       "quality                 0\n",
       "dtype: int64"
      ]
     },
     "execution_count": 4,
     "metadata": {},
     "output_type": "execute_result"
    }
   ],
   "source": [
    "# Observ tipul de date object, de aceea cercetez numărului de valori NaN\n",
    "df.isna().sum()"
   ]
  },
  {
   "cell_type": "code",
   "execution_count": 5,
   "id": "31cf31fb",
   "metadata": {},
   "outputs": [
    {
     "data": {
      "text/plain": [
       "white    4898\n",
       "red      1599\n",
       "Name: type, dtype: int64"
      ]
     },
     "execution_count": 5,
     "metadata": {},
     "output_type": "execute_result"
    }
   ],
   "source": [
    "# Analizez distribuția tipurilor de vin\n",
    "df['type'].value_counts()"
   ]
  },
  {
   "cell_type": "code",
   "execution_count": 6,
   "id": "c5abe22b",
   "metadata": {},
   "outputs": [
    {
     "data": {
      "text/html": [
       "<div>\n",
       "<style scoped>\n",
       "    .dataframe tbody tr th:only-of-type {\n",
       "        vertical-align: middle;\n",
       "    }\n",
       "\n",
       "    .dataframe tbody tr th {\n",
       "        vertical-align: top;\n",
       "    }\n",
       "\n",
       "    .dataframe thead th {\n",
       "        text-align: right;\n",
       "    }\n",
       "</style>\n",
       "<table border=\"1\" class=\"dataframe\">\n",
       "  <thead>\n",
       "    <tr style=\"text-align: right;\">\n",
       "      <th></th>\n",
       "      <th>type</th>\n",
       "      <th>fixed acidity</th>\n",
       "      <th>volatile acidity</th>\n",
       "      <th>citric acid</th>\n",
       "      <th>residual sugar</th>\n",
       "      <th>chlorides</th>\n",
       "      <th>free sulfur dioxide</th>\n",
       "      <th>total sulfur dioxide</th>\n",
       "      <th>density</th>\n",
       "      <th>pH</th>\n",
       "      <th>sulphates</th>\n",
       "      <th>alcohol</th>\n",
       "      <th>quality</th>\n",
       "    </tr>\n",
       "  </thead>\n",
       "  <tbody>\n",
       "    <tr>\n",
       "      <th>0</th>\n",
       "      <td>white</td>\n",
       "      <td>7.0</td>\n",
       "      <td>0.270</td>\n",
       "      <td>0.36</td>\n",
       "      <td>20.7</td>\n",
       "      <td>0.045</td>\n",
       "      <td>45.0</td>\n",
       "      <td>170.0</td>\n",
       "      <td>1.00100</td>\n",
       "      <td>3.00</td>\n",
       "      <td>0.45</td>\n",
       "      <td>8.8</td>\n",
       "      <td>6</td>\n",
       "    </tr>\n",
       "    <tr>\n",
       "      <th>1</th>\n",
       "      <td>white</td>\n",
       "      <td>6.3</td>\n",
       "      <td>0.300</td>\n",
       "      <td>0.34</td>\n",
       "      <td>1.6</td>\n",
       "      <td>0.049</td>\n",
       "      <td>14.0</td>\n",
       "      <td>132.0</td>\n",
       "      <td>0.99400</td>\n",
       "      <td>3.30</td>\n",
       "      <td>0.49</td>\n",
       "      <td>9.5</td>\n",
       "      <td>6</td>\n",
       "    </tr>\n",
       "    <tr>\n",
       "      <th>2</th>\n",
       "      <td>white</td>\n",
       "      <td>8.1</td>\n",
       "      <td>0.280</td>\n",
       "      <td>0.40</td>\n",
       "      <td>6.9</td>\n",
       "      <td>0.050</td>\n",
       "      <td>30.0</td>\n",
       "      <td>97.0</td>\n",
       "      <td>0.99510</td>\n",
       "      <td>3.26</td>\n",
       "      <td>0.44</td>\n",
       "      <td>10.1</td>\n",
       "      <td>6</td>\n",
       "    </tr>\n",
       "    <tr>\n",
       "      <th>3</th>\n",
       "      <td>white</td>\n",
       "      <td>7.2</td>\n",
       "      <td>0.230</td>\n",
       "      <td>0.32</td>\n",
       "      <td>8.5</td>\n",
       "      <td>0.058</td>\n",
       "      <td>47.0</td>\n",
       "      <td>186.0</td>\n",
       "      <td>0.99560</td>\n",
       "      <td>3.19</td>\n",
       "      <td>0.40</td>\n",
       "      <td>9.9</td>\n",
       "      <td>6</td>\n",
       "    </tr>\n",
       "    <tr>\n",
       "      <th>4</th>\n",
       "      <td>white</td>\n",
       "      <td>7.2</td>\n",
       "      <td>0.230</td>\n",
       "      <td>0.32</td>\n",
       "      <td>8.5</td>\n",
       "      <td>0.058</td>\n",
       "      <td>47.0</td>\n",
       "      <td>186.0</td>\n",
       "      <td>0.99560</td>\n",
       "      <td>3.19</td>\n",
       "      <td>0.40</td>\n",
       "      <td>9.9</td>\n",
       "      <td>6</td>\n",
       "    </tr>\n",
       "    <tr>\n",
       "      <th>...</th>\n",
       "      <td>...</td>\n",
       "      <td>...</td>\n",
       "      <td>...</td>\n",
       "      <td>...</td>\n",
       "      <td>...</td>\n",
       "      <td>...</td>\n",
       "      <td>...</td>\n",
       "      <td>...</td>\n",
       "      <td>...</td>\n",
       "      <td>...</td>\n",
       "      <td>...</td>\n",
       "      <td>...</td>\n",
       "      <td>...</td>\n",
       "    </tr>\n",
       "    <tr>\n",
       "      <th>6492</th>\n",
       "      <td>red</td>\n",
       "      <td>6.2</td>\n",
       "      <td>0.600</td>\n",
       "      <td>0.08</td>\n",
       "      <td>2.0</td>\n",
       "      <td>0.090</td>\n",
       "      <td>32.0</td>\n",
       "      <td>44.0</td>\n",
       "      <td>0.99490</td>\n",
       "      <td>3.45</td>\n",
       "      <td>0.58</td>\n",
       "      <td>10.5</td>\n",
       "      <td>5</td>\n",
       "    </tr>\n",
       "    <tr>\n",
       "      <th>6493</th>\n",
       "      <td>red</td>\n",
       "      <td>5.9</td>\n",
       "      <td>0.550</td>\n",
       "      <td>0.10</td>\n",
       "      <td>2.2</td>\n",
       "      <td>0.062</td>\n",
       "      <td>39.0</td>\n",
       "      <td>51.0</td>\n",
       "      <td>0.99512</td>\n",
       "      <td>3.52</td>\n",
       "      <td>0.76</td>\n",
       "      <td>11.2</td>\n",
       "      <td>6</td>\n",
       "    </tr>\n",
       "    <tr>\n",
       "      <th>6494</th>\n",
       "      <td>red</td>\n",
       "      <td>6.3</td>\n",
       "      <td>0.510</td>\n",
       "      <td>0.13</td>\n",
       "      <td>2.3</td>\n",
       "      <td>0.076</td>\n",
       "      <td>29.0</td>\n",
       "      <td>40.0</td>\n",
       "      <td>0.99574</td>\n",
       "      <td>3.42</td>\n",
       "      <td>0.75</td>\n",
       "      <td>11.0</td>\n",
       "      <td>6</td>\n",
       "    </tr>\n",
       "    <tr>\n",
       "      <th>6495</th>\n",
       "      <td>red</td>\n",
       "      <td>5.9</td>\n",
       "      <td>0.645</td>\n",
       "      <td>0.12</td>\n",
       "      <td>2.0</td>\n",
       "      <td>0.075</td>\n",
       "      <td>32.0</td>\n",
       "      <td>44.0</td>\n",
       "      <td>0.99547</td>\n",
       "      <td>3.57</td>\n",
       "      <td>0.71</td>\n",
       "      <td>10.2</td>\n",
       "      <td>5</td>\n",
       "    </tr>\n",
       "    <tr>\n",
       "      <th>6496</th>\n",
       "      <td>red</td>\n",
       "      <td>6.0</td>\n",
       "      <td>0.310</td>\n",
       "      <td>0.47</td>\n",
       "      <td>3.6</td>\n",
       "      <td>0.067</td>\n",
       "      <td>18.0</td>\n",
       "      <td>42.0</td>\n",
       "      <td>0.99549</td>\n",
       "      <td>3.39</td>\n",
       "      <td>0.66</td>\n",
       "      <td>11.0</td>\n",
       "      <td>6</td>\n",
       "    </tr>\n",
       "  </tbody>\n",
       "</table>\n",
       "<p>6497 rows × 13 columns</p>\n",
       "</div>"
      ],
      "text/plain": [
       "       type  fixed acidity  volatile acidity  citric acid  residual sugar  \\\n",
       "0     white            7.0             0.270         0.36            20.7   \n",
       "1     white            6.3             0.300         0.34             1.6   \n",
       "2     white            8.1             0.280         0.40             6.9   \n",
       "3     white            7.2             0.230         0.32             8.5   \n",
       "4     white            7.2             0.230         0.32             8.5   \n",
       "...     ...            ...               ...          ...             ...   \n",
       "6492    red            6.2             0.600         0.08             2.0   \n",
       "6493    red            5.9             0.550         0.10             2.2   \n",
       "6494    red            6.3             0.510         0.13             2.3   \n",
       "6495    red            5.9             0.645         0.12             2.0   \n",
       "6496    red            6.0             0.310         0.47             3.6   \n",
       "\n",
       "      chlorides  free sulfur dioxide  total sulfur dioxide  density    pH  \\\n",
       "0         0.045                 45.0                 170.0  1.00100  3.00   \n",
       "1         0.049                 14.0                 132.0  0.99400  3.30   \n",
       "2         0.050                 30.0                  97.0  0.99510  3.26   \n",
       "3         0.058                 47.0                 186.0  0.99560  3.19   \n",
       "4         0.058                 47.0                 186.0  0.99560  3.19   \n",
       "...         ...                  ...                   ...      ...   ...   \n",
       "6492      0.090                 32.0                  44.0  0.99490  3.45   \n",
       "6493      0.062                 39.0                  51.0  0.99512  3.52   \n",
       "6494      0.076                 29.0                  40.0  0.99574  3.42   \n",
       "6495      0.075                 32.0                  44.0  0.99547  3.57   \n",
       "6496      0.067                 18.0                  42.0  0.99549  3.39   \n",
       "\n",
       "      sulphates  alcohol  quality  \n",
       "0          0.45      8.8        6  \n",
       "1          0.49      9.5        6  \n",
       "2          0.44     10.1        6  \n",
       "3          0.40      9.9        6  \n",
       "4          0.40      9.9        6  \n",
       "...         ...      ...      ...  \n",
       "6492       0.58     10.5        5  \n",
       "6493       0.76     11.2        6  \n",
       "6494       0.75     11.0        6  \n",
       "6495       0.71     10.2        5  \n",
       "6496       0.66     11.0        6  \n",
       "\n",
       "[6497 rows x 13 columns]"
      ]
     },
     "execution_count": 6,
     "metadata": {},
     "output_type": "execute_result"
    }
   ],
   "source": [
    "# Observ cazul de date dezechilibrate. Cercetez fiecare coloană împreună și separarat în relația cu colaona type\n",
    "df"
   ]
  },
  {
   "cell_type": "code",
   "execution_count": 7,
   "id": "e4ff0892",
   "metadata": {},
   "outputs": [
    {
     "data": {
      "text/plain": [
       "(array([  63., 1151., 3248., 1339.,  382.,  177.,   82.,   41.,    7.,\n",
       "           7.]),\n",
       " array([ 3.8 ,  5.01,  6.22,  7.43,  8.64,  9.85, 11.06, 12.27, 13.48,\n",
       "        14.69, 15.9 ]),\n",
       " <BarContainer object of 10 artists>)"
      ]
     },
     "execution_count": 7,
     "metadata": {},
     "output_type": "execute_result"
    },
    {
     "data": {
      "image/png": "[encoded data removed]",
      "text/plain": [
       "<Figure size 432x288 with 1 Axes>"
      ]
     },
     "metadata": {
      "needs_background": "light"
     },
     "output_type": "display_data"
    }
   ],
   "source": [
    "# fixed acidity\n",
    "plt.hist(df['fixed acidity'])"
   ]
  },
  {
   "cell_type": "code",
   "execution_count": 8,
   "id": "7a3f18da",
   "metadata": {},
   "outputs": [
    {
     "data": {
      "text/plain": [
       "(array([1.580e+03, 3.002e+03, 9.960e+02, 6.060e+02, 2.140e+02, 7.000e+01,\n",
       "        2.300e+01, 3.000e+00, 2.000e+00, 1.000e+00]),\n",
       " array([0.08, 0.23, 0.38, 0.53, 0.68, 0.83, 0.98, 1.13, 1.28, 1.43, 1.58]),\n",
       " <BarContainer object of 10 artists>)"
      ]
     },
     "execution_count": 8,
     "metadata": {},
     "output_type": "execute_result"
    },
    {
     "data": {
      "image/png": "[encoded data removed]",
      "text/plain": [
       "<Figure size 432x288 with 1 Axes>"
      ]
     },
     "metadata": {
      "needs_background": "light"
     },
     "output_type": "display_data"
    }
   ],
   "source": [
    "# volatile acidity\n",
    "plt.hist(df['volatile acidity'])"
   ]
  },
  {
   "cell_type": "code",
   "execution_count": 9,
   "id": "0a9ed014",
   "metadata": {},
   "outputs": [
    {
     "data": {
      "text/plain": [
       "(array([[1.100e+01, 3.100e+01, 1.100e+01, 6.000e+00, 2.000e+00, 0.000e+00,\n",
       "         2.000e+00, 0.000e+00, 0.000e+00, 0.000e+00],\n",
       "        [3.120e+02, 6.210e+02, 1.350e+02, 6.400e+01, 1.300e+01, 3.000e+00,\n",
       "         3.000e+00, 0.000e+00, 0.000e+00, 0.000e+00],\n",
       "        [9.200e+02, 1.556e+03, 4.110e+02, 2.400e+02, 8.500e+01, 2.800e+01,\n",
       "         7.000e+00, 1.000e+00, 0.000e+00, 0.000e+00],\n",
       "        [2.890e+02, 5.510e+02, 2.250e+02, 1.720e+02, 6.800e+01, 2.300e+01,\n",
       "         7.000e+00, 1.000e+00, 2.000e+00, 1.000e+00],\n",
       "        [3.600e+01, 1.370e+02, 9.200e+01, 6.600e+01, 3.900e+01, 1.000e+01,\n",
       "         1.000e+00, 1.000e+00, 0.000e+00, 0.000e+00],\n",
       "        [6.000e+00, 6.400e+01, 6.200e+01, 3.200e+01, 5.000e+00, 5.000e+00,\n",
       "         3.000e+00, 0.000e+00, 0.000e+00, 0.000e+00],\n",
       "        [4.000e+00, 2.700e+01, 3.600e+01, 1.400e+01, 1.000e+00, 0.000e+00,\n",
       "         0.000e+00, 0.000e+00, 0.000e+00, 0.000e+00],\n",
       "        [0.000e+00, 1.200e+01, 2.000e+01, 8.000e+00, 0.000e+00, 1.000e+00,\n",
       "         0.000e+00, 0.000e+00, 0.000e+00, 0.000e+00],\n",
       "        [0.000e+00, 2.000e+00, 4.000e+00, 1.000e+00, 0.000e+00, 0.000e+00,\n",
       "         0.000e+00, 0.000e+00, 0.000e+00, 0.000e+00],\n",
       "        [2.000e+00, 1.000e+00, 0.000e+00, 3.000e+00, 1.000e+00, 0.000e+00,\n",
       "         0.000e+00, 0.000e+00, 0.000e+00, 0.000e+00]]),\n",
       " array([ 3.8 ,  5.01,  6.22,  7.43,  8.64,  9.85, 11.06, 12.27, 13.48,\n",
       "        14.69, 15.9 ]),\n",
       " array([0.08, 0.23, 0.38, 0.53, 0.68, 0.83, 0.98, 1.13, 1.28, 1.43, 1.58]),\n",
       " <matplotlib.collections.QuadMesh at 0x18152f87e80>)"
      ]
     },
     "execution_count": 9,
     "metadata": {},
     "output_type": "execute_result"
    },
    {
     "data": {
      "image/png": "[encoded data removed]",
      "text/plain": [
       "<Figure size 432x288 with 1 Axes>"
      ]
     },
     "metadata": {
      "needs_background": "light"
     },
     "output_type": "display_data"
    }
   ],
   "source": [
    "# Privesc la ele împreună\n",
    "plt.hist2d(df['fixed acidity'], df['volatile acidity'])"
   ]
  },
  {
   "cell_type": "code",
   "execution_count": 10,
   "id": "68a36116",
   "metadata": {},
   "outputs": [
    {
     "data": {
      "text/plain": [
       "<AxesSubplot:xlabel='fixed acidity', ylabel='volatile acidity'>"
      ]
     },
     "execution_count": 10,
     "metadata": {},
     "output_type": "execute_result"
    },
    {
     "data": {
      "image/png": "[encoded data removed]",
      "text/plain": [
       "<Figure size 432x288 with 1 Axes>"
      ]
     },
     "metadata": {
      "needs_background": "light"
     },
     "output_type": "display_data"
    }
   ],
   "source": [
    "# Acum privesc la ele împreună în relația cu colaona type\n",
    "sns.histplot(df, x ='fixed acidity', y ='volatile acidity', hue ='type', palette ='magma', kde =True)"
   ]
  },
  {
   "cell_type": "code",
   "execution_count": 11,
   "id": "face01d7",
   "metadata": {},
   "outputs": [
    {
     "data": {
      "text/plain": [
       "(array([7.660e+02, 3.113e+03, 2.059e+03, 4.200e+02, 1.260e+02, 5.000e+00,\n",
       "        6.000e+00, 1.000e+00, 0.000e+00, 1.000e+00]),\n",
       " array([0.   , 0.166, 0.332, 0.498, 0.664, 0.83 , 0.996, 1.162, 1.328,\n",
       "        1.494, 1.66 ]),\n",
       " <BarContainer object of 10 artists>)"
      ]
     },
     "execution_count": 11,
     "metadata": {},
     "output_type": "execute_result"
    },
    {
     "data": {
      "image/png": "[encoded data removed]",
      "text/plain": [
       "<Figure size 432x288 with 1 Axes>"
      ]
     },
     "metadata": {
      "needs_background": "light"
     },
     "output_type": "display_data"
    }
   ],
   "source": [
    "# Explorez acum datele despre compozitie. citric acid\n",
    "plt.hist(df['citric acid'])"
   ]
  },
  {
   "cell_type": "code",
   "execution_count": 12,
   "id": "758f3c3b",
   "metadata": {},
   "outputs": [
    {
     "data": {
      "text/plain": [
       "(array([4.551e+03, 1.396e+03, 5.330e+02, 1.400e+01, 2.000e+00, 0.000e+00,\n",
       "        0.000e+00, 0.000e+00, 0.000e+00, 1.000e+00]),\n",
       " array([ 0.6 ,  7.12, 13.64, 20.16, 26.68, 33.2 , 39.72, 46.24, 52.76,\n",
       "        59.28, 65.8 ]),\n",
       " <BarContainer object of 10 artists>)"
      ]
     },
     "execution_count": 12,
     "metadata": {},
     "output_type": "execute_result"
    },
    {
     "data": {
      "image/png": "[encoded data removed]",
      "text/plain": [
       "<Figure size 432x288 with 1 Axes>"
      ]
     },
     "metadata": {
      "needs_background": "light"
     },
     "output_type": "display_data"
    }
   ],
   "source": [
    "# residual sugar\n",
    "plt.hist(df['residual sugar'])"
   ]
  },
  {
   "cell_type": "code",
   "execution_count": 13,
   "id": "f2e29288",
   "metadata": {},
   "outputs": [
    {
     "data": {
      "text/plain": [
       "(array([5.061e+03, 1.279e+03, 9.200e+01, 3.400e+01, 8.000e+00, 9.000e+00,\n",
       "        1.000e+01, 2.000e+00, 0.000e+00, 2.000e+00]),\n",
       " array([0.009 , 0.0692, 0.1294, 0.1896, 0.2498, 0.31  , 0.3702, 0.4304,\n",
       "        0.4906, 0.5508, 0.611 ]),\n",
       " <BarContainer object of 10 artists>)"
      ]
     },
     "execution_count": 13,
     "metadata": {},
     "output_type": "execute_result"
    },
    {
     "data": {
      "image/png": "[encoded data removed]",
      "text/plain": [
       "<Figure size 432x288 with 1 Axes>"
      ]
     },
     "metadata": {
      "needs_background": "light"
     },
     "output_type": "display_data"
    }
   ],
   "source": [
    "# chlorides\n",
    "plt.hist(df['chlorides'])"
   ]
  },
  {
   "cell_type": "code",
   "execution_count": 14,
   "id": "1a646389",
   "metadata": {},
   "outputs": [
    {
     "data": {
      "text/plain": [
       "(array([3.392e+03, 2.676e+03, 4.010e+02, 2.000e+01, 6.000e+00, 1.000e+00,\n",
       "        0.000e+00, 0.000e+00, 0.000e+00, 1.000e+00]),\n",
       " array([  1. ,  29.8,  58.6,  87.4, 116.2, 145. , 173.8, 202.6, 231.4,\n",
       "        260.2, 289. ]),\n",
       " <BarContainer object of 10 artists>)"
      ]
     },
     "execution_count": 14,
     "metadata": {},
     "output_type": "execute_result"
    },
    {
     "data": {
      "image/png": "[encoded data removed]",
      "text/plain": [
       "<Figure size 432x288 with 1 Axes>"
      ]
     },
     "metadata": {
      "needs_background": "light"
     },
     "output_type": "display_data"
    }
   ],
   "source": [
    "# free sulfur dioxide\n",
    "plt.hist(df['free sulfur dioxide'])"
   ]
  },
  {
   "cell_type": "code",
   "execution_count": 15,
   "id": "9851f933",
   "metadata": {},
   "outputs": [
    {
     "data": {
      "text/plain": [
       "(array([1.088e+03, 9.790e+02, 2.049e+03, 1.514e+03, 7.210e+02, 1.340e+02,\n",
       "        8.000e+00, 2.000e+00, 1.000e+00, 1.000e+00]),\n",
       " array([  6. ,  49.4,  92.8, 136.2, 179.6, 223. , 266.4, 309.8, 353.2,\n",
       "        396.6, 440. ]),\n",
       " <BarContainer object of 10 artists>)"
      ]
     },
     "execution_count": 15,
     "metadata": {},
     "output_type": "execute_result"
    },
    {
     "data": {
      "image/png": "[encoded data removed]",
      "text/plain": [
       "<Figure size 432x288 with 1 Axes>"
      ]
     },
     "metadata": {
      "needs_background": "light"
     },
     "output_type": "display_data"
    }
   ],
   "source": [
    "# total sulfur dioxide\n",
    "plt.hist(df['total sulfur dioxide'])"
   ]
  },
  {
   "cell_type": "code",
   "execution_count": 16,
   "id": "c5d0b841",
   "metadata": {},
   "outputs": [
    {
     "data": {
      "text/plain": [
       "(array([1.599e+03, 3.645e+03, 1.241e+03, 9.000e+00, 2.000e+00, 0.000e+00,\n",
       "        0.000e+00, 0.000e+00, 0.000e+00, 1.000e+00]),\n",
       " array([0.98711 , 0.992297, 0.997484, 1.002671, 1.007858, 1.013045,\n",
       "        1.018232, 1.023419, 1.028606, 1.033793, 1.03898 ]),\n",
       " <BarContainer object of 10 artists>)"
      ]
     },
     "execution_count": 16,
     "metadata": {},
     "output_type": "execute_result"
    },
    {
     "data": {
      "image/png": "[encoded data removed]",
      "text/plain": [
       "<Figure size 432x288 with 1 Axes>"
      ]
     },
     "metadata": {
      "needs_background": "light"
     },
     "output_type": "display_data"
    }
   ],
   "source": [
    "# density\n",
    "plt.hist(df['density'])"
   ]
  },
  {
   "cell_type": "code",
   "execution_count": 17,
   "id": "b385bc69",
   "metadata": {},
   "outputs": [
    {
     "data": {
      "text/plain": [
       "(array([  16.,  334., 1233., 2111., 1663.,  802.,  263.,   59.,   12.,\n",
       "           4.]),\n",
       " array([2.72 , 2.849, 2.978, 3.107, 3.236, 3.365, 3.494, 3.623, 3.752,\n",
       "        3.881, 4.01 ]),\n",
       " <BarContainer object of 10 artists>)"
      ]
     },
     "execution_count": 17,
     "metadata": {},
     "output_type": "execute_result"
    },
    {
     "data": {
      "image/png": "[encoded data removed]",
      "text/plain": [
       "<Figure size 432x288 with 1 Axes>"
      ]
     },
     "metadata": {
      "needs_background": "light"
     },
     "output_type": "display_data"
    }
   ],
   "source": [
    "# pH\n",
    "plt.hist(df['pH'])"
   ]
  },
  {
   "cell_type": "code",
   "execution_count": 18,
   "id": "3571a381",
   "metadata": {},
   "outputs": [
    {
     "data": {
      "text/plain": [
       "(array([1023., 3451., 1540.,  382.,   66.,   21.,    6.,    4.,    0.,\n",
       "           4.]),\n",
       " array([0.22 , 0.398, 0.576, 0.754, 0.932, 1.11 , 1.288, 1.466, 1.644,\n",
       "        1.822, 2.   ]),\n",
       " <BarContainer object of 10 artists>)"
      ]
     },
     "execution_count": 18,
     "metadata": {},
     "output_type": "execute_result"
    },
    {
     "data": {
      "image/png": "[encoded data removed]",
      "text/plain": [
       "<Figure size 432x288 with 1 Axes>"
      ]
     },
     "metadata": {
      "needs_background": "light"
     },
     "output_type": "display_data"
    }
   ],
   "source": [
    "# sulphates\n",
    "plt.hist(df['sulphates'])"
   ]
  },
  {
   "cell_type": "code",
   "execution_count": 19,
   "id": "a3c3906e",
   "metadata": {},
   "outputs": [
    {
     "data": {
      "text/plain": [
       "(array([4.000e+01, 1.133e+03, 1.662e+03, 1.156e+03, 1.092e+03, 6.280e+02,\n",
       "        5.690e+02, 1.750e+02, 4.100e+01, 1.000e+00]),\n",
       " array([ 8.  ,  8.69,  9.38, 10.07, 10.76, 11.45, 12.14, 12.83, 13.52,\n",
       "        14.21, 14.9 ]),\n",
       " <BarContainer object of 10 artists>)"
      ]
     },
     "execution_count": 19,
     "metadata": {},
     "output_type": "execute_result"
    },
    {
     "data": {
      "image/png": "[encoded data removed]",
      "text/plain": [
       "<Figure size 432x288 with 1 Axes>"
      ]
     },
     "metadata": {
      "needs_background": "light"
     },
     "output_type": "display_data"
    }
   ],
   "source": [
    "# alcohol\n",
    "plt.hist(df['alcohol'])"
   ]
  },
  {
   "cell_type": "code",
   "execution_count": 20,
   "id": "ae5694e6",
   "metadata": {},
   "outputs": [
    {
     "data": {
      "text/plain": [
       "(array([  30.,  216.,    0., 2138.,    0., 2836., 1079.,    0.,  193.,\n",
       "           5.]),\n",
       " array([3. , 3.6, 4.2, 4.8, 5.4, 6. , 6.6, 7.2, 7.8, 8.4, 9. ]),\n",
       " <BarContainer object of 10 artists>)"
      ]
     },
     "execution_count": 20,
     "metadata": {},
     "output_type": "execute_result"
    },
    {
     "data": {
      "image/png": "[encoded data removed]",
      "text/plain": [
       "<Figure size 432x288 with 1 Axes>"
      ]
     },
     "metadata": {
      "needs_background": "light"
     },
     "output_type": "display_data"
    }
   ],
   "source": [
    "# quality\n",
    "plt.hist(df['quality'])"
   ]
  },
  {
   "cell_type": "code",
   "execution_count": 21,
   "id": "94857d9b",
   "metadata": {},
   "outputs": [
    {
     "data": {
      "text/plain": [
       "<AxesSubplot:xlabel='citric acid', ylabel='count'>"
      ]
     },
     "execution_count": 21,
     "metadata": {},
     "output_type": "execute_result"
    },
    {
     "data": {
      "image/png": "[encoded data removed]",
      "text/plain": [
       "<Figure size 432x288 with 1 Axes>"
      ]
     },
     "metadata": {
      "needs_background": "light"
     },
     "output_type": "display_data"
    }
   ],
   "source": [
    "# Acum privesc la citric acid în relația cu colaona type\n",
    "sns.countplot(data=df, x='citric acid', hue='type')"
   ]
  },
  {
   "cell_type": "code",
   "execution_count": 23,
   "id": "c3473f6d",
   "metadata": {},
   "outputs": [
    {
     "data": {
      "text/plain": [
       "<seaborn.axisgrid.FacetGrid at 0x18157c0c040>"
      ]
     },
     "execution_count": 23,
     "metadata": {},
     "output_type": "execute_result"
    },
    {
     "data": {
      "image/png": "[encoded data removed]",
      "text/plain": [
       "<Figure size 360x360 with 1 Axes>"
      ]
     },
     "metadata": {
      "needs_background": "light"
     },
     "output_type": "display_data"
    }
   ],
   "source": [
    "sns.catplot(x='type', y='citric acid', hue='type', data=df)"
   ]
  },
  {
   "cell_type": "code",
   "execution_count": 34,
   "id": "04579a2d",
   "metadata": {},
   "outputs": [],
   "source": [
    "# În acest grafic putem vedea coloana citric acid nu este informaționala pentru prezicerea tipului\n",
    "# Acum privesc la residual sugar în relația cu colaona type"
   ]
  },
  {
   "cell_type": "code",
   "execution_count": 24,
   "id": "4007810b",
   "metadata": {},
   "outputs": [
    {
     "data": {
      "text/plain": [
       "<seaborn.axisgrid.FacetGrid at 0x181579a1370>"
      ]
     },
     "execution_count": 24,
     "metadata": {},
     "output_type": "execute_result"
    },
    {
     "data": {
      "image/png": "[encoded data removed]",
      "text/plain": [
       "<Figure size 360x360 with 1 Axes>"
      ]
     },
     "metadata": {
      "needs_background": "light"
     },
     "output_type": "display_data"
    }
   ],
   "source": [
    "sns.catplot(x='type', y='residual sugar', hue='type', data=df)"
   ]
  },
  {
   "cell_type": "code",
   "execution_count": 35,
   "id": "3b18612e",
   "metadata": {},
   "outputs": [],
   "source": [
    "# chlorides în relația cu colaona type"
   ]
  },
  {
   "cell_type": "code",
   "execution_count": 25,
   "id": "b13e124d",
   "metadata": {},
   "outputs": [
    {
     "data": {
      "text/plain": [
       "<seaborn.axisgrid.FacetGrid at 0x18158728a00>"
      ]
     },
     "execution_count": 25,
     "metadata": {},
     "output_type": "execute_result"
    },
    {
     "data": {
      "image/png": "[encoded data removed]",
      "text/plain": [
       "<Figure size 360x360 with 1 Axes>"
      ]
     },
     "metadata": {
      "needs_background": "light"
     },
     "output_type": "display_data"
    }
   ],
   "source": [
    "sns.catplot(x='type', y='chlorides', hue='type', data=df)"
   ]
  },
  {
   "cell_type": "code",
   "execution_count": 36,
   "id": "f98ee3f1",
   "metadata": {},
   "outputs": [],
   "source": [
    "# free sulfur dioxide în relația cu colaona type"
   ]
  },
  {
   "cell_type": "code",
   "execution_count": 26,
   "id": "1b397c67",
   "metadata": {},
   "outputs": [
    {
     "data": {
      "text/plain": [
       "<seaborn.axisgrid.FacetGrid at 0x18157f91910>"
      ]
     },
     "execution_count": 26,
     "metadata": {},
     "output_type": "execute_result"
    },
    {
     "data": {
      "image/png": "[encoded data removed]",
      "text/plain": [
       "<Figure size 360x360 with 1 Axes>"
      ]
     },
     "metadata": {
      "needs_background": "light"
     },
     "output_type": "display_data"
    }
   ],
   "source": [
    "sns.catplot(x='type', y='free sulfur dioxide', hue='type', data=df)"
   ]
  },
  {
   "cell_type": "code",
   "execution_count": 37,
   "id": "b789f852",
   "metadata": {},
   "outputs": [],
   "source": [
    "# total sulfur dioxide în relația cu colaona type"
   ]
  },
  {
   "cell_type": "code",
   "execution_count": 27,
   "id": "d10e97d4",
   "metadata": {},
   "outputs": [
    {
     "data": {
      "text/plain": [
       "<seaborn.axisgrid.FacetGrid at 0x18157f913a0>"
      ]
     },
     "execution_count": 27,
     "metadata": {},
     "output_type": "execute_result"
    },
    {
     "data": {
      "image/png": "[encoded data removed]",
      "text/plain": [
       "<Figure size 360x360 with 1 Axes>"
      ]
     },
     "metadata": {
      "needs_background": "light"
     },
     "output_type": "display_data"
    }
   ],
   "source": [
    "sns.catplot(x='type', y='total sulfur dioxide', hue='type', data=df)"
   ]
  },
  {
   "cell_type": "code",
   "execution_count": 38,
   "id": "df8ec682",
   "metadata": {},
   "outputs": [],
   "source": [
    "# density în relația cu colaona type"
   ]
  },
  {
   "cell_type": "code",
   "execution_count": 28,
   "id": "8c56eb98",
   "metadata": {},
   "outputs": [
    {
     "data": {
      "text/plain": [
       "<seaborn.axisgrid.FacetGrid at 0x18158f05c70>"
      ]
     },
     "execution_count": 28,
     "metadata": {},
     "output_type": "execute_result"
    },
    {
     "data": {
      "image/png": "[encoded data removed]",
      "text/plain": [
       "<Figure size 360x360 with 1 Axes>"
      ]
     },
     "metadata": {
      "needs_background": "light"
     },
     "output_type": "display_data"
    }
   ],
   "source": [
    "sns.catplot(x='type', y='density', hue='type', data=df)"
   ]
  },
  {
   "cell_type": "code",
   "execution_count": 40,
   "id": "7fa8d6ab",
   "metadata": {},
   "outputs": [],
   "source": [
    "# pH în relația cu coloana type"
   ]
  },
  {
   "cell_type": "code",
   "execution_count": 29,
   "id": "60b37624",
   "metadata": {},
   "outputs": [
    {
     "data": {
      "text/plain": [
       "<seaborn.axisgrid.FacetGrid at 0x181579ae580>"
      ]
     },
     "execution_count": 29,
     "metadata": {},
     "output_type": "execute_result"
    },
    {
     "data": {
      "image/png": "[encoded data removed]",
      "text/plain": [
       "<Figure size 360x360 with 1 Axes>"
      ]
     },
     "metadata": {
      "needs_background": "light"
     },
     "output_type": "display_data"
    }
   ],
   "source": [
    "sns.catplot(x='type', y='pH', hue='type', data=df)"
   ]
  },
  {
   "cell_type": "code",
   "execution_count": 41,
   "id": "3c27e0bf",
   "metadata": {},
   "outputs": [],
   "source": [
    "# sulphates în relația cu coloana type"
   ]
  },
  {
   "cell_type": "code",
   "execution_count": 30,
   "id": "949a0d1f",
   "metadata": {},
   "outputs": [
    {
     "data": {
      "text/plain": [
       "<seaborn.axisgrid.FacetGrid at 0x18158ffedc0>"
      ]
     },
     "execution_count": 30,
     "metadata": {},
     "output_type": "execute_result"
    },
    {
     "data": {
      "image/png": "[encoded data removed]",
      "text/plain": [
       "<Figure size 360x360 with 1 Axes>"
      ]
     },
     "metadata": {
      "needs_background": "light"
     },
     "output_type": "display_data"
    }
   ],
   "source": [
    "sns.catplot(x='type', y='sulphates', hue='type', data=df)"
   ]
  },
  {
   "cell_type": "code",
   "execution_count": 42,
   "id": "2dd97d5c",
   "metadata": {},
   "outputs": [],
   "source": [
    "# alcohol în relația cu coloana type"
   ]
  },
  {
   "cell_type": "code",
   "execution_count": 32,
   "id": "446f22d7",
   "metadata": {},
   "outputs": [
    {
     "data": {
      "text/plain": [
       "<seaborn.axisgrid.FacetGrid at 0x18158afbeb0>"
      ]
     },
     "execution_count": 32,
     "metadata": {},
     "output_type": "execute_result"
    },
    {
     "data": {
      "image/png": "[encoded data removed]",
      "text/plain": [
       "<Figure size 360x360 with 1 Axes>"
      ]
     },
     "metadata": {
      "needs_background": "light"
     },
     "output_type": "display_data"
    }
   ],
   "source": [
    "sns.catplot(x='type', y='alcohol', hue='type', data=df)"
   ]
  },
  {
   "cell_type": "code",
   "execution_count": 57,
   "id": "40d372a5",
   "metadata": {},
   "outputs": [
    {
     "data": {
      "text/plain": [
       "<seaborn.axisgrid.FacetGrid at 0x1815d3b3190>"
      ]
     },
     "execution_count": 57,
     "metadata": {},
     "output_type": "execute_result"
    },
    {
     "data": {
      "image/png": "[encoded data removed]",
      "text/plain": [
       "<Figure size 360x360 with 1 Axes>"
      ]
     },
     "metadata": {
      "needs_background": "light"
     },
     "output_type": "display_data"
    }
   ],
   "source": [
    "# quality în relația cu coloana type\n",
    "sns.catplot(x='type', y='quality', hue='type', data=df)"
   ]
  },
  {
   "cell_type": "code",
   "execution_count": 58,
   "id": "9e0a3ac6",
   "metadata": {},
   "outputs": [],
   "source": [
    "# Elimină coloana quality deoarece majoritatea valorilor sunt aceleași\n",
    "df = df.drop(['quality'], axis=1)"
   ]
  },
  {
   "cell_type": "code",
   "execution_count": 48,
   "id": "d17c4f7a",
   "metadata": {},
   "outputs": [
    {
     "data": {
      "text/plain": [
       "3.2185008465445586"
      ]
     },
     "execution_count": 48,
     "metadata": {},
     "output_type": "execute_result"
    }
   ],
   "source": [
    "# Datorita functiei mean() afisam valoarea medie a pH-ului\n",
    "df['pH'].mean()"
   ]
  },
  {
   "cell_type": "code",
   "execution_count": 49,
   "id": "71aff487",
   "metadata": {},
   "outputs": [
    {
     "data": {
      "text/plain": [
       "10.3"
      ]
     },
     "execution_count": 49,
     "metadata": {},
     "output_type": "execute_result"
    }
   ],
   "source": [
    "# Datorita functiei median() afisam valoarea punctului mediu al alcoolului\n",
    "df['alcohol'].median()"
   ]
  },
  {
   "cell_type": "code",
   "execution_count": 50,
   "id": "daedb832",
   "metadata": {},
   "outputs": [
    {
     "data": {
      "text/plain": [
       "0    0.5\n",
       "dtype: float64"
      ]
     },
     "execution_count": 50,
     "metadata": {},
     "output_type": "execute_result"
    }
   ],
   "source": [
    "# Datorita functiei mode() afisam cea mai comună valoare din coloana sulphates\n",
    "df['sulphates'].mode()"
   ]
  },
  {
   "cell_type": "code",
   "execution_count": 51,
   "id": "6fadb1c8",
   "metadata": {},
   "outputs": [
    {
     "data": {
      "text/plain": [
       "0.8732552715311248"
      ]
     },
     "execution_count": 51,
     "metadata": {},
     "output_type": "execute_result"
    }
   ],
   "source": [
    "# Datorita functiei std() afisam deviatia standard, ce este un număr care descrie cât de răspândite sunt valorile calitatii vinului\n",
    "df['quality'].std()"
   ]
  },
  {
   "cell_type": "code",
   "execution_count": 52,
   "id": "7dcedd7d",
   "metadata": {},
   "outputs": [
    {
     "data": {
      "text/plain": [
       "8.992039783233363e-06"
      ]
     },
     "execution_count": 52,
     "metadata": {},
     "output_type": "execute_result"
    }
   ],
   "source": [
    "# Datorita functiei var() afisam variatia, ce este un alt număr care indică cât de răspândite sunt valorile densitatii\n",
    "df['density'].var()"
   ]
  },
  {
   "cell_type": "code",
   "execution_count": 55,
   "id": "e4baaf44",
   "metadata": {},
   "outputs": [],
   "source": [
    "# Elimină 'citric acid' deoarece majoritatea valorilor sunt aceleași\n",
    "df = df.drop(['citric acid'], axis=1)"
   ]
  },
  {
   "cell_type": "code",
   "execution_count": 60,
   "id": "47d6d168",
   "metadata": {},
   "outputs": [],
   "source": [
    "# Acum încerc să combin informațiile din unele coloane și să vad dacă sunt informative pentru prezicerea tipului de vin\n",
    "# Si anume scad din cantitatea totala de dioxid de sulf cantitatea care nu a intrat in actiune, astfel aflam cantitatea de sulf activa\n",
    "df['sulfur dioxide'] = df['total sulfur dioxide'] - df['free sulfur dioxide']"
   ]
  },
  {
   "cell_type": "code",
   "execution_count": 61,
   "id": "db459d87",
   "metadata": {},
   "outputs": [
    {
     "data": {
      "text/plain": [
       "<seaborn.axisgrid.FacetGrid at 0x1815d83e130>"
      ]
     },
     "execution_count": 61,
     "metadata": {},
     "output_type": "execute_result"
    },
    {
     "data": {
      "image/png": "[encoded data removed]",
      "text/plain": [
       "<Figure size 360x360 with 1 Axes>"
      ]
     },
     "metadata": {
      "needs_background": "light"
     },
     "output_type": "display_data"
    }
   ],
   "source": [
    "# desenam graficul coloanei sulfur dioxide in dependenta de type\n",
    "sns.catplot(x='type', y='sulfur dioxide', hue='type', data=df)"
   ]
  },
  {
   "cell_type": "code",
   "execution_count": 68,
   "id": "5f126cbb",
   "metadata": {},
   "outputs": [],
   "source": [
    "# Asemenea combin informațiile din volatile acidity cu fixed acidity pentru prezicerea tipului de vin\n",
    "df['acidity'] = df['volatile acidity'] / df['fixed acidity']"
   ]
  },
  {
   "cell_type": "code",
   "execution_count": 69,
   "id": "6d0256f9",
   "metadata": {},
   "outputs": [
    {
     "data": {
      "text/plain": [
       "<seaborn.axisgrid.FacetGrid at 0x1815d83dc40>"
      ]
     },
     "execution_count": 69,
     "metadata": {},
     "output_type": "execute_result"
    },
    {
     "data": {
      "image/png": "[encoded data removed]",
      "text/plain": [
       "<Figure size 360x360 with 1 Axes>"
      ]
     },
     "metadata": {
      "needs_background": "light"
     },
     "output_type": "display_data"
    }
   ],
   "source": [
    "# desenam graficul 'acidity' in dependenta de type\n",
    "sns.catplot(x='type', y='acidity', hue='type', data=df)"
   ]
  },
  {
   "cell_type": "code",
   "execution_count": 76,
   "id": "808f478e",
   "metadata": {},
   "outputs": [],
   "source": [
    "# Elimină coloanele non informative pentru tipul vinului\n",
    "non_informative_columns = ['fixed acidity', 'volatile acidity', 'sulphates', 'alcohol', 'chlorides', 'density']\n",
    "df = df.drop(non_informative_columns, axis=1)"
   ]
  },
  {
   "cell_type": "code",
   "execution_count": 78,
   "id": "8220f575",
   "metadata": {},
   "outputs": [
    {
     "data": {
      "text/plain": [
       "Index(['type', 'residual sugar', 'pH', 'sulfur dioxide', 'acidity'], dtype='object')"
      ]
     },
     "execution_count": 78,
     "metadata": {},
     "output_type": "execute_result"
    }
   ],
   "source": [
    "# coloanele cu cea mai mare corelație absolută cu coloana type sunt\n",
    "df.columns"
   ]
  },
  {
   "cell_type": "code",
   "execution_count": 79,
   "id": "ada0ee41",
   "metadata": {},
   "outputs": [],
   "source": [
    "# se explica prin faptul ca din punct de vedere chimic, acizii influențează aciditatea titrabilă, \n",
    "# care afectează gustul și pH-ul, care afectează culoarea, stabilitatea la oxidare și, prin urmare, \n",
    "# durata de viață generală a vinului"
   ]
  }
 ],
 "metadata": {
  "kernelspec": {
   "display_name": "Python 3 (ipykernel)",
   "language": "python",
   "name": "python3"
  },
  "language_info": {
   "codemirror_mode": {
    "name": "ipython",
    "version": 3
   },
   "file_extension": ".py",
   "mimetype": "text/x-python",
   "name": "python",
   "nbconvert_exporter": "python",
   "pygments_lexer": "ipython3",
   "version": "3.9.10"
  }
 },
 "nbformat": 4,
 "nbformat_minor": 5
}
